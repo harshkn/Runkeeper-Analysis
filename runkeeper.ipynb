{
 "cells": [
  {
   "cell_type": "code",
   "execution_count": 67,
   "metadata": {
    "collapsed": false
   },
   "outputs": [],
   "source": [
    "%matplotlib inline\n",
    "\n",
    "import pandas as pd\n",
    "import numpy as np\n",
    "import matplotlib.pyplot as plt\n",
    "from  matplotlib import style\n",
    "style.use('ggplot')\n",
    "\n",
    "df = pd.read_csv('cardioActivities.csv')\n"
   ]
  },
  {
   "cell_type": "code",
   "execution_count": 68,
   "metadata": {
    "collapsed": false
   },
   "outputs": [
    {
     "name": "stdout",
     "output_type": "stream",
     "text": [
      "Number of total activities  312\n",
      "Total average distance per activity  2.44545741325\n",
      "Number of walking  activities  222\n",
      "Total average distance per walking activity  1.72635135135\n",
      "Number of running activities  90\n",
      "Total average distance per running activity  4.12533333333\n"
     ]
    }
   ],
   "source": [
    "# world_food_facts.countries\n",
    "df.dtypes\n",
    "\n",
    "df['Date'] = pd.to_datetime(df['Date'])\n",
    "# Average distance per activity.\n",
    "total_avg = df['Distance (km)'].sum()/df['Distance (km)'].count()\n",
    "\n",
    "walk_data = df[df['Type'].str.contains('Walking')]\n",
    "walk_avg = walk_data['Distance (km)'].sum()/walk_data['Distance (km)'].count()\n",
    "\n",
    "run_data = df[df['Type'].str.contains('Running')]\n",
    "run_avg = run_data['Distance (km)'].sum()/run_data['Distance (km)'].count()\n",
    "\n",
    "\n",
    "print 'Number of total activities ', walk_data['Distance (km)'].count() + run_data['Distance (km)'].count()\n",
    "print 'Total average distance per activity ', total_avg\n",
    "\n",
    "print 'Number of walking  activities ', walk_data['Distance (km)'].count() \n",
    "print 'Total average distance per walking activity ', walk_avg\n",
    "\n",
    "print 'Number of running activities ', run_data['Distance (km)'].count()\n",
    "print 'Total average distance per running activity ', run_avg\n"
   ]
  },
  {
   "cell_type": "code",
   "execution_count": 75,
   "metadata": {
    "collapsed": false
   },
   "outputs": [
    {
     "data": {
      "text/plain": [
       "<matplotlib.legend.Legend at 0x10d4fbe90>"
      ]
     },
     "execution_count": 75,
     "metadata": {},
     "output_type": "execute_result"
    },
    {
     "data": {
      "image/png": "[encoded data removed]",
      "text/plain": [
       "<matplotlib.figure.Figure at 0x10e8cbfd0>"
      ]
     },
     "metadata": {},
     "output_type": "display_data"
    }
   ],
   "source": [
    "#Running \n",
    "\n",
    "#Monthy\n",
    "r_monthly = run_data['Date'].dt.to_period('M')\n",
    "w_monthly = walk_data['Date'].dt.to_period('M')\n",
    "ax = pd.groupby(run_data, r_monthly)['Distance (km)'].sum().plot(kind='bar',position=1)\n",
    "pd.groupby(walk_data, w_monthly)['Distance (km)'].sum().plot(ax=ax, kind = 'bar', color = 'green',position=0)\n",
    "ax.set_xlim([-1, 20])\n",
    "\n",
    "ax.set_xlabel('Month')\n",
    "ax.set_ylabel('Distance in km')\n",
    "patches, labels = ax.get_legend_handles_labels()\n",
    "labels = ['Running', 'Walkin']\n",
    "ax.set_title('Monthly Distances')\n",
    "ax.legend(patches, labels)\n",
    "# fig = ax.get_figure()\n",
    "# fig.savefig('running.png')\n",
    "\n"
   ]
  },
  {
   "cell_type": "code",
   "execution_count": 58,
   "metadata": {
    "collapsed": false
   },
   "outputs": [
    {
     "name": "stdout",
     "output_type": "stream",
     "text": [
      "<class 'pandas.core.frame.DataFrame'>\n",
      "Int64Index: 91 entries, 0 to 317\n",
      "Data columns (total 12 columns):\n",
      "Date                        91 non-null datetime64[ns]\n",
      "Type                        91 non-null object\n",
      "Route Name                  0 non-null float64\n",
      "Distance (km)               90 non-null float64\n",
      "Duration                    91 non-null object\n",
      "Average Pace                90 non-null object\n",
      "Average Speed (km/h)        90 non-null float64\n",
      "Calories Burned             91 non-null float64\n",
      "Climb (m)                   68 non-null float64\n",
      "Average Heart Rate (bpm)    0 non-null float64\n",
      "Notes                       83 non-null object\n",
      "GPX File                    68 non-null object\n",
      "dtypes: datetime64[ns](1), float64(6), object(5)\n",
      "memory usage: 9.2+ KB\n"
     ]
    }
   ],
   "source": [
    "run_data.info()"
   ]
  },
  {
   "cell_type": "code",
   "execution_count": null,
   "metadata": {
    "collapsed": true
   },
   "outputs": [],
   "source": []
  }
 ],
 "metadata": {
  "kernelspec": {
   "display_name": "Python 2",
   "language": "python",
   "name": "python2"
  },
  "language_info": {
   "codemirror_mode": {
    "name": "ipython",
    "version": 2
   },
   "file_extension": ".py",
   "mimetype": "text/x-python",
   "name": "python",
   "nbconvert_exporter": "python",
   "pygments_lexer": "ipython2",
   "version": "2.7.12"
  }
 },
 "nbformat": 4,
 "nbformat_minor": 0
}
